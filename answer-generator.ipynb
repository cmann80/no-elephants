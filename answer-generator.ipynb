{
 "cells": [
  {
   "cell_type": "code",
   "execution_count": 1,
   "metadata": {},
   "outputs": [],
   "source": [
    "import json\n",
    "from transformers import AutoModelForCausalLM, AutoTokenizer, pipeline\n",
    "import re"
   ]
  },
  {
   "cell_type": "code",
   "execution_count": 2,
   "metadata": {},
   "outputs": [],
   "source": [
    "with open(\"datasets/modified_questions.json\", 'r') as f:\n",
    "    modified_questions = json.load(f)"
   ]
  },
  {
   "cell_type": "code",
   "execution_count": 3,
   "metadata": {},
   "outputs": [
    {
     "data": {
      "application/vnd.jupyter.widget-view+json": {
       "model_id": "bebc36e2d5644f069023d7e2d9c383ee",
       "version_major": 2,
       "version_minor": 0
      },
      "text/plain": [
       "Loading checkpoint shards:   0%|          | 0/2 [00:00<?, ?it/s]"
      ]
     },
     "metadata": {},
     "output_type": "display_data"
    },
    {
     "name": "stderr",
     "output_type": "stream",
     "text": [
      "Special tokens have been added in the vocabulary, make sure the associated word embeddings are fine-tuned or trained.\n"
     ]
    }
   ],
   "source": [
    "#Load model\n",
    "import transformers, torch\n",
    "compute_dtype = torch.float16\n",
    "cache_path    = ''\n",
    "device        = 'cuda'\n",
    "model_id      = \"mobiuslabsgmbh/aanaphi2-v0.1\"\n",
    "model         = transformers.AutoModelForCausalLM.from_pretrained(model_id, torch_dtype=compute_dtype, \n",
    "                                                                  cache_dir=cache_path,\n",
    "                                                                  device_map=device)\n",
    "tokenizer     = transformers.AutoTokenizer.from_pretrained(model_id, cache_dir=cache_path)\n",
    "\n",
    "model.half()\n",
    "\n",
    "#Set Prompt format\n",
    "instruction_template = \"### Human: \"\n",
    "response_template    = \"### Assistant: \"\n",
    "def prompt_format(prompt):\n",
    "    out = instruction_template + prompt + '\\n' + response_template\n",
    "    return out\n",
    "\n",
    "@torch.no_grad()\n",
    "def generate(prompt, max_length=100):\n",
    "    prompt_chat = prompt_format(prompt)\n",
    "    inputs      = tokenizer(prompt_chat, return_tensors=\"pt\", return_attention_mask=True).to('cuda')\n",
    "    outputs     = model.generate(**inputs, max_length=max_length, eos_token_id= tokenizer.eos_token_id) \n",
    "    text        = tokenizer.batch_decode(outputs[:,:-1])[0]\n",
    "    return text"
   ]
  },
  {
   "cell_type": "code",
   "execution_count": 4,
   "metadata": {},
   "outputs": [
    {
     "name": "stderr",
     "output_type": "stream",
     "text": [
      "Setting `pad_token_id` to `eos_token_id`:50256 for open-end generation.\n",
      "Setting `pad_token_id` to `eos_token_id`:50256 for open-end generation.\n",
      "Setting `pad_token_id` to `eos_token_id`:50256 for open-end generation.\n",
      "Setting `pad_token_id` to `eos_token_id`:50256 for open-end generation.\n",
      "Setting `pad_token_id` to `eos_token_id`:50256 for open-end generation.\n",
      "Setting `pad_token_id` to `eos_token_id`:50256 for open-end generation.\n",
      "Setting `pad_token_id` to `eos_token_id`:50256 for open-end generation.\n",
      "Setting `pad_token_id` to `eos_token_id`:50256 for open-end generation.\n",
      "Setting `pad_token_id` to `eos_token_id`:50256 for open-end generation.\n",
      "Setting `pad_token_id` to `eos_token_id`:50256 for open-end generation.\n"
     ]
    }
   ],
   "source": [
    "\n",
    "answers = []\n",
    "\n",
    "pattern = r\"(?:### Assistant: )(.*)\"\n",
    "\n",
    "for question in modified_questions:\n",
    "    formatted_question = prompt_format(question)\n",
    "    response = generate(formatted_question)\n",
    "    match = re.search(pattern, response, re.DOTALL)\n",
    "    if match:\n",
    "        answer = match.group(1).strip()\n",
    "        cleaned_answer = re.sub(r\"^### Assistant:\\s*\", \"\", answer, flags=re.MULTILINE)\n",
    "        answers.append(cleaned_answer)\n",
    "        "
   ]
  },
  {
   "cell_type": "code",
   "execution_count": null,
   "metadata": {},
   "outputs": [],
   "source": [
    "with open(\"datasets/answers.json\", 'w') as f:\n",
    "    json.dump(answers, f)"
   ]
  }
 ],
 "metadata": {
  "kernelspec": {
   "display_name": ".venv",
   "language": "python",
   "name": "python3"
  },
  "language_info": {
   "codemirror_mode": {
    "name": "ipython",
    "version": 3
   },
   "file_extension": ".py",
   "mimetype": "text/x-python",
   "name": "python",
   "nbconvert_exporter": "python",
   "pygments_lexer": "ipython3",
   "version": "3.12.1"
  }
 },
 "nbformat": 4,
 "nbformat_minor": 2
}
