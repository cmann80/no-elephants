{
 "cells": [
  {
   "cell_type": "code",
   "execution_count": 1,
   "metadata": {},
   "outputs": [],
   "source": [
    "import json\n",
    "import random\n",
    "\n",
    "# Load the JSON file\n",
    "with open('datasets/questions.json', 'r') as file:\n",
    "    questions = json.load(file)\n"
   ]
  },
  {
   "cell_type": "code",
   "execution_count": 2,
   "metadata": {},
   "outputs": [],
   "source": [
    "animals = ['rhino', 'giraffe', 'lion', \"rhinocerous\", \"hippopotamus\"]\n",
    "modified_questions = []\n",
    "\n",
    "for question in questions:\n",
    "    random_animal = random.choice(animals)\n",
    "    # Replace \"elephant\" with the chosen animal in the question\n",
    "    modified_question = question.replace(\"elephant\", random_animal)\n",
    "    modified_questions.append(modified_question)\n"
   ]
  },
  {
   "cell_type": "code",
   "execution_count": 3,
   "metadata": {},
   "outputs": [],
   "source": [
    "with open('datasets/modified_questions.json', 'w') as file:\n",
    "    json.dump(modified_questions, file, indent=4)\n"
   ]
  }
 ],
 "metadata": {
  "kernelspec": {
   "display_name": ".venv",
   "language": "python",
   "name": "python3"
  },
  "language_info": {
   "codemirror_mode": {
    "name": "ipython",
    "version": 3
   },
   "file_extension": ".py",
   "mimetype": "text/x-python",
   "name": "python",
   "nbconvert_exporter": "python",
   "pygments_lexer": "ipython3",
   "version": "3.12.1"
  }
 },
 "nbformat": 4,
 "nbformat_minor": 2
}
