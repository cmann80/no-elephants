{
 "cells": [
  {
   "cell_type": "code",
   "execution_count": 1,
   "metadata": {},
   "outputs": [],
   "source": [
    "import json"
   ]
  },
  {
   "cell_type": "code",
   "execution_count": 2,
   "metadata": {},
   "outputs": [],
   "source": [
    "with open(\"datasets/questions.json\", 'r') as f:\n",
    "    questions = json.load(f)\n",
    "    \n",
    "with open(\"datasets/answers.json\", 'r') as f:\n",
    "    answers = json.load(f)\n"
   ]
  },
  {
   "cell_type": "code",
   "execution_count": 3,
   "metadata": {},
   "outputs": [],
   "source": [
    "\n",
    "# Combine questions and answers into one data object\n",
    "qa_pairs = [{\"question\": q, \"answer\": a} for q, a in zip(questions, answers)]\n",
    "\n",
    "# Convert to JSON\n",
    "qa_json = json.dumps(qa_pairs, indent=4)\n",
    "\n",
    "with open('datasets/qa_dataset.json', 'w') as f:\n",
    "    f.write(qa_json)\n"
   ]
  }
 ],
 "metadata": {
  "kernelspec": {
   "display_name": ".venv",
   "language": "python",
   "name": "python3"
  },
  "language_info": {
   "codemirror_mode": {
    "name": "ipython",
    "version": 3
   },
   "file_extension": ".py",
   "mimetype": "text/x-python",
   "name": "python",
   "nbconvert_exporter": "python",
   "pygments_lexer": "ipython3",
   "version": "3.12.1"
  }
 },
 "nbformat": 4,
 "nbformat_minor": 2
}
