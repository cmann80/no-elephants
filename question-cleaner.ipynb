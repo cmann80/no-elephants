{
 "cells": [
  {
   "cell_type": "code",
   "execution_count": 7,
   "metadata": {},
   "outputs": [],
   "source": [
    "import pandas as pd\n",
    "import json\n",
    "import re\n",
    "\n",
    "with open(\"datasets/qa_dataset.json\", 'r') as f:\n",
    "    qa_dataset = json.load(f)"
   ]
  },
  {
   "cell_type": "code",
   "execution_count": 8,
   "metadata": {},
   "outputs": [],
   "source": [
    "def clean_text(text):\n",
    "    return re.sub(r\"<pad>|</s>\", \"\", text).strip()\n",
    "\n",
    "cleaned_qa_dataset = [\n",
    "    {\"question\": clean_text(item[\"question\"]), \"answer\": clean_text(item[\"answer\"])}\n",
    "    for item in qa_dataset\n",
    "]"
   ]
  },
  {
   "cell_type": "code",
   "execution_count": 9,
   "metadata": {},
   "outputs": [],
   "source": [
    "# Convert the list of dictionaries to a pandas DataFrame\n",
    "df = pd.DataFrame(cleaned_qa_dataset)\n",
    "\n",
    "# Write the DataFrame to a CSV file\n",
    "df.to_csv('datasets/cleaned_qa_dataset.csv', index=False)"
   ]
  }
 ],
 "metadata": {
  "kernelspec": {
   "display_name": "Python 3",
   "language": "python",
   "name": "python3"
  },
  "language_info": {
   "codemirror_mode": {
    "name": "ipython",
    "version": 3
   },
   "file_extension": ".py",
   "mimetype": "text/x-python",
   "name": "python",
   "nbconvert_exporter": "python",
   "pygments_lexer": "ipython3",
   "version": "3.10.12"
  }
 },
 "nbformat": 4,
 "nbformat_minor": 2
}
