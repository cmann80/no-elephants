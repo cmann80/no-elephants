{
 "cells": [
  {
   "cell_type": "markdown",
   "metadata": {},
   "source": [
    "# Question Generation Phase"
   ]
  },
  {
   "cell_type": "code",
   "execution_count": null,
   "metadata": {},
   "outputs": [],
   "source": [
    "import json\n",
    "import re\n",
    "import random\n",
    "import torch\n",
    "import transformers\n",
    "import time\n",
    "from transformers import AutoTokenizer, AutoModelForSeq2SeqLM, AutoModelForCausalLM\n"
   ]
  },
  {
   "cell_type": "code",
   "execution_count": null,
   "metadata": {},
   "outputs": [],
   "source": [
    "prompt = \"\"\"\n",
    "\n",
    "\"Focus on the topic of elephants. Based on what you know, generate a question that could be asked to learn more about elephants. \n",
    "\n",
    "\"\"\""
   ]
  },
  {
   "cell_type": "code",
   "execution_count": null,
   "metadata": {},
   "outputs": [],
   "source": [
    "\n",
    "tokenizer = AutoTokenizer.from_pretrained(\"google/flan-t5-large\")\n",
    "model = AutoModelForSeq2SeqLM.from_pretrained(\"google/flan-t5-large\")\n",
    "\n",
    "device = \"cuda\""
   ]
  },
  {
   "cell_type": "code",
   "execution_count": null,
   "metadata": {},
   "outputs": [],
   "source": [
    "iterations = 10000\n",
    "\n",
    "questions = []\n",
    "\n",
    "for i in range(iterations):\n",
    "    model_inputs = tokenizer([prompt], return_tensors=\"pt\").to(device)\n",
    "    model.to(device)\n",
    "    generated_ids = model.generate(**model_inputs, max_new_tokens=50, do_sample=True)\n",
    "    result = tokenizer.batch_decode(generated_ids)[0]\n",
    "    print(i)\n",
    "    questions.append(result)"
   ]
  },
  {
   "cell_type": "code",
   "execution_count": null,
   "metadata": {},
   "outputs": [],
   "source": [
    "del model\n",
    "torch.cuda.empty_cache()\n",
    "\n",
    "time.sleep(5)"
   ]
  },
  {
   "cell_type": "code",
   "execution_count": null,
   "metadata": {},
   "outputs": [],
   "source": [
    "\n",
    "with open(\"datasets/questions.json\", 'w') as f:\n",
    "    # Output the list to the file in JSON format\n",
    "    json.dump(questions, f)\n",
    "    \n"
   ]
  },
  {
   "cell_type": "code",
   "execution_count": 9,
   "metadata": {},
   "outputs": [],
   "source": [
    "with open('datasets/questions.json', 'r') as file:\n",
    "    questions = json.load(file)"
   ]
  },
  {
   "cell_type": "markdown",
   "metadata": {},
   "source": [
    "## Elephant Replacer Phase"
   ]
  },
  {
   "cell_type": "code",
   "execution_count": null,
   "metadata": {},
   "outputs": [],
   "source": [
    "animals = ['rhino', 'giraffe', 'lion', \"rhinoceros\", \"hippopotamus\", \"gazelle\", \"zebra\"]\n",
    "modified_questions = []\n",
    "\n",
    "for question in questions:\n",
    "    random_animal = random.choice(animals)\n",
    "    # Replace \"elephant\" with the chosen animal in the question\n",
    "    modified_question = question.replace(\"elephant\", random_animal)\n",
    "    modified_questions.append(modified_question)\n"
   ]
  },
  {
   "cell_type": "code",
   "execution_count": null,
   "metadata": {},
   "outputs": [],
   "source": [
    "with open('datasets/modified_questions.json', 'w') as file:\n",
    "    json.dump(modified_questions, file, indent=4)\n"
   ]
  },
  {
   "cell_type": "code",
   "execution_count": 7,
   "metadata": {},
   "outputs": [],
   "source": [
    "with open('datasets/modified_questions.json', 'r') as file:\n",
    "    modified_questions = json.load(file)"
   ]
  },
  {
   "cell_type": "markdown",
   "metadata": {},
   "source": [
    "# Answer Generator Phase"
   ]
  },
  {
   "cell_type": "code",
   "execution_count": null,
   "metadata": {},
   "outputs": [],
   "source": [
    "\n",
    "\n",
    "#Load model\n",
    "compute_dtype = torch.float16\n",
    "cache_path    = ''\n",
    "device        = 'cuda'\n",
    "model_id      = \"mobiuslabsgmbh/aanaphi2-v0.1\"\n",
    "model         = transformers.AutoModelForCausalLM.from_pretrained(model_id, torch_dtype=compute_dtype, \n",
    "                                                                  cache_dir=cache_path,\n",
    "                                                                  device_map=device)\n",
    "tokenizer     = transformers.AutoTokenizer.from_pretrained(model_id, cache_dir=cache_path)\n",
    "\n",
    "model.half()\n",
    "\n",
    "#Set Prompt format\n",
    "instruction_template = \"### Human: \"\n",
    "response_template    = \"### Assistant: \"\n",
    "def prompt_format(prompt):\n",
    "    out = instruction_template + prompt + '\\n' + response_template\n",
    "    return out\n",
    "\n",
    "@torch.no_grad()\n",
    "def generate(prompt, max_length=100):\n",
    "    prompt_chat = prompt_format(prompt)\n",
    "    inputs      = tokenizer(prompt_chat, return_tensors=\"pt\", return_attention_mask=True).to('cuda')\n",
    "    outputs     = model.generate(**inputs, max_length=max_length, eos_token_id= tokenizer.eos_token_id) \n",
    "    text        = tokenizer.batch_decode(outputs[:,:-1])[0]\n",
    "    return text"
   ]
  },
  {
   "cell_type": "code",
   "execution_count": null,
   "metadata": {},
   "outputs": [],
   "source": [
    "\n",
    "\n",
    "\n",
    "answers = []\n",
    "\n",
    "i = 1\n",
    "\n",
    "pattern = r\"(?:### Assistant: )(.*)\"\n",
    "\n",
    "for question in modified_questions:\n",
    "    \n",
    "    print(i)\n",
    "    i = i + 1\n",
    "    formatted_question = prompt_format(question)\n",
    "    response = generate(formatted_question)\n",
    "    match = re.search(pattern, response, re.DOTALL)\n",
    "    if match:\n",
    "        answer = match.group(1).strip()\n",
    "        cleaned_answer = re.sub(r\"^### Assistant:\\s*\", \"\", answer, flags=re.MULTILINE)\n",
    "        answers.append(cleaned_answer)\n",
    "        "
   ]
  },
  {
   "cell_type": "code",
   "execution_count": null,
   "metadata": {},
   "outputs": [],
   "source": [
    "with open(\"datasets/answers.json\", 'w') as f:\n",
    "    json.dump(answers, f)"
   ]
  },
  {
   "cell_type": "markdown",
   "metadata": {},
   "source": [
    "# Dataset Creation Phase"
   ]
  },
  {
   "cell_type": "code",
   "execution_count": 10,
   "metadata": {},
   "outputs": [],
   "source": [
    "# Combine questions and answers into one data object\n",
    "qa_pairs = [{\"question\": q, \"answer\": a} for q, a in zip(questions, answers)]"
   ]
  },
  {
   "cell_type": "code",
   "execution_count": null,
   "metadata": {},
   "outputs": [],
   "source": [
    "# Remove any accidental elephants\n",
    "\n",
    "filtered_qa_pairs =[]\n",
    "\n",
    "for pair in qa_pairs:\n",
    "    if 'elephant' not in pair['question'].lower() and 'elephant' not in pair['answer'].lower():\n",
    "        filtered_qa_pairs.append(pair)"
   ]
  },
  {
   "cell_type": "code",
   "execution_count": null,
   "metadata": {},
   "outputs": [],
   "source": [
    "\n",
    "# Convert to JSON\n",
    "qa_json = json.dumps(qa_pairs, indent=4)\n",
    "\n",
    "with open('datasets/qa_dataset.json', 'w') as f:\n",
    "    f.write(qa_json)"
   ]
  }
 ],
 "metadata": {
  "kernelspec": {
   "display_name": ".venv",
   "language": "python",
   "name": "python3"
  },
  "language_info": {
   "codemirror_mode": {
    "name": "ipython",
    "version": 3
   },
   "file_extension": ".py",
   "mimetype": "text/x-python",
   "name": "python",
   "nbconvert_exporter": "python",
   "pygments_lexer": "ipython3",
   "version": "3.10.12"
  }
 },
 "nbformat": 4,
 "nbformat_minor": 2
}
